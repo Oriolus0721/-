{
 "cells": [
  {
   "cell_type": "markdown",
   "metadata": {},
   "source": [
    "データ結合"
   ]
  },
  {
   "cell_type": "code",
   "execution_count": 2,
   "metadata": {},
   "outputs": [],
   "source": [
    "import pandas as pd\n",
    "import numpy as np\n",
    "import glob"
   ]
  },
  {
   "cell_type": "code",
   "execution_count": 3,
   "metadata": {},
   "outputs": [],
   "source": [
    "df1 = pd.read_csv(\"train.csv\", header = 0, encoding = \"SHIFT-JIS\")\n",
    "df2 = pd.read_csv(\"weather.csv\", header = 0, encoding = \"SHIFT-JIS\")"
   ]
  },
  {
   "cell_type": "code",
   "execution_count": 4,
   "metadata": {},
   "outputs": [
    {
     "data": {
      "text/html": [
       "<div>\n",
       "<style scoped>\n",
       "    .dataframe tbody tr th:only-of-type {\n",
       "        vertical-align: middle;\n",
       "    }\n",
       "\n",
       "    .dataframe tbody tr th {\n",
       "        vertical-align: top;\n",
       "    }\n",
       "\n",
       "    .dataframe thead th {\n",
       "        text-align: right;\n",
       "    }\n",
       "</style>\n",
       "<table border=\"1\" class=\"dataframe\">\n",
       "  <thead>\n",
       "    <tr style=\"text-align: right;\">\n",
       "      <th></th>\n",
       "      <th>kind</th>\n",
       "      <th>date</th>\n",
       "      <th>amount</th>\n",
       "      <th>mode_price</th>\n",
       "      <th>area</th>\n",
       "    </tr>\n",
       "  </thead>\n",
       "  <tbody>\n",
       "    <tr>\n",
       "      <th>0</th>\n",
       "      <td>だいこん</td>\n",
       "      <td>20051107</td>\n",
       "      <td>201445</td>\n",
       "      <td>735.0</td>\n",
       "      <td>千葉</td>\n",
       "    </tr>\n",
       "    <tr>\n",
       "      <th>1</th>\n",
       "      <td>だいこん</td>\n",
       "      <td>20051108</td>\n",
       "      <td>189660</td>\n",
       "      <td>840.0</td>\n",
       "      <td>千葉_各地_青森</td>\n",
       "    </tr>\n",
       "    <tr>\n",
       "      <th>2</th>\n",
       "      <td>だいこん</td>\n",
       "      <td>20051110</td>\n",
       "      <td>218166</td>\n",
       "      <td>735.0</td>\n",
       "      <td>千葉_各地_青森</td>\n",
       "    </tr>\n",
       "    <tr>\n",
       "      <th>3</th>\n",
       "      <td>だいこん</td>\n",
       "      <td>20051111</td>\n",
       "      <td>182624</td>\n",
       "      <td>682.5</td>\n",
       "      <td>千葉_青森</td>\n",
       "    </tr>\n",
       "    <tr>\n",
       "      <th>4</th>\n",
       "      <td>だいこん</td>\n",
       "      <td>20051112</td>\n",
       "      <td>220691</td>\n",
       "      <td>682.5</td>\n",
       "      <td>千葉_青森</td>\n",
       "    </tr>\n",
       "    <tr>\n",
       "      <th>...</th>\n",
       "      <td>...</td>\n",
       "      <td>...</td>\n",
       "      <td>...</td>\n",
       "      <td>...</td>\n",
       "      <td>...</td>\n",
       "    </tr>\n",
       "    <tr>\n",
       "      <th>97777</th>\n",
       "      <td>しめじ</td>\n",
       "      <td>20170526</td>\n",
       "      <td>17231</td>\n",
       "      <td>48.5</td>\n",
       "      <td>新潟_長野</td>\n",
       "    </tr>\n",
       "    <tr>\n",
       "      <th>97778</th>\n",
       "      <td>しめじ</td>\n",
       "      <td>20170527</td>\n",
       "      <td>17105</td>\n",
       "      <td>48.5</td>\n",
       "      <td>新潟_長野</td>\n",
       "    </tr>\n",
       "    <tr>\n",
       "      <th>97779</th>\n",
       "      <td>しめじ</td>\n",
       "      <td>20170529</td>\n",
       "      <td>12406</td>\n",
       "      <td>48.5</td>\n",
       "      <td>新潟_長野</td>\n",
       "    </tr>\n",
       "    <tr>\n",
       "      <th>97780</th>\n",
       "      <td>しめじ</td>\n",
       "      <td>20170530</td>\n",
       "      <td>12320</td>\n",
       "      <td>48.5</td>\n",
       "      <td>新潟_長野</td>\n",
       "    </tr>\n",
       "    <tr>\n",
       "      <th>97781</th>\n",
       "      <td>しめじ</td>\n",
       "      <td>20170531</td>\n",
       "      <td>11635</td>\n",
       "      <td>43.0</td>\n",
       "      <td>新潟_長野</td>\n",
       "    </tr>\n",
       "  </tbody>\n",
       "</table>\n",
       "<p>97782 rows × 5 columns</p>\n",
       "</div>"
      ],
      "text/plain": [
       "       kind      date  amount  mode_price      area\n",
       "0      だいこん  20051107  201445       735.0        千葉\n",
       "1      だいこん  20051108  189660       840.0  千葉_各地_青森\n",
       "2      だいこん  20051110  218166       735.0  千葉_各地_青森\n",
       "3      だいこん  20051111  182624       682.5     千葉_青森\n",
       "4      だいこん  20051112  220691       682.5     千葉_青森\n",
       "...     ...       ...     ...         ...       ...\n",
       "97777   しめじ  20170526   17231        48.5     新潟_長野\n",
       "97778   しめじ  20170527   17105        48.5     新潟_長野\n",
       "97779   しめじ  20170529   12406        48.5     新潟_長野\n",
       "97780   しめじ  20170530   12320        48.5     新潟_長野\n",
       "97781   しめじ  20170531   11635        43.0     新潟_長野\n",
       "\n",
       "[97782 rows x 5 columns]"
      ]
     },
     "execution_count": 4,
     "metadata": {},
     "output_type": "execute_result"
    }
   ],
   "source": [
    "df1"
   ]
  },
  {
   "cell_type": "code",
   "execution_count": 5,
   "metadata": {},
   "outputs": [
    {
     "data": {
      "text/html": [
       "<div>\n",
       "<style scoped>\n",
       "    .dataframe tbody tr th:only-of-type {\n",
       "        vertical-align: middle;\n",
       "    }\n",
       "\n",
       "    .dataframe tbody tr th {\n",
       "        vertical-align: top;\n",
       "    }\n",
       "\n",
       "    .dataframe thead th {\n",
       "        text-align: right;\n",
       "    }\n",
       "</style>\n",
       "<table border=\"1\" class=\"dataframe\">\n",
       "  <thead>\n",
       "    <tr style=\"text-align: right;\">\n",
       "      <th></th>\n",
       "      <th>date</th>\n",
       "      <th>mean_temp</th>\n",
       "      <th>max_temp</th>\n",
       "      <th>max_temp_time</th>\n",
       "      <th>min_temp</th>\n",
       "      <th>min_temp_time</th>\n",
       "      <th>sum_rain</th>\n",
       "      <th>sun_time</th>\n",
       "      <th>mean_humid</th>\n",
       "      <th>area</th>\n",
       "    </tr>\n",
       "  </thead>\n",
       "  <tbody>\n",
       "    <tr>\n",
       "      <th>0</th>\n",
       "      <td>20041106</td>\n",
       "      <td>13.1</td>\n",
       "      <td>20.1</td>\n",
       "      <td>2004/11/6 12:50</td>\n",
       "      <td>8.1</td>\n",
       "      <td>2004/11/6 05:31</td>\n",
       "      <td>5.0</td>\n",
       "      <td>1.6</td>\n",
       "      <td>77.0</td>\n",
       "      <td>青森</td>\n",
       "    </tr>\n",
       "    <tr>\n",
       "      <th>1</th>\n",
       "      <td>20041107</td>\n",
       "      <td>9.6</td>\n",
       "      <td>12.5</td>\n",
       "      <td>2004/11/7 13:40</td>\n",
       "      <td>5.4</td>\n",
       "      <td>2004/11/7 22:17</td>\n",
       "      <td>0.0</td>\n",
       "      <td>4.1</td>\n",
       "      <td>63.0</td>\n",
       "      <td>青森</td>\n",
       "    </tr>\n",
       "    <tr>\n",
       "      <th>2</th>\n",
       "      <td>20041108</td>\n",
       "      <td>9.0</td>\n",
       "      <td>15.5</td>\n",
       "      <td>2004/11/8 12:51</td>\n",
       "      <td>3.2</td>\n",
       "      <td>2004/11/8 06:28</td>\n",
       "      <td>0.0</td>\n",
       "      <td>8.9</td>\n",
       "      <td>72.0</td>\n",
       "      <td>青森</td>\n",
       "    </tr>\n",
       "    <tr>\n",
       "      <th>3</th>\n",
       "      <td>20041109</td>\n",
       "      <td>12.2</td>\n",
       "      <td>17.7</td>\n",
       "      <td>2004/11/9 14:40</td>\n",
       "      <td>5.7</td>\n",
       "      <td>2004/11/9 02:49</td>\n",
       "      <td>1.5</td>\n",
       "      <td>1.2</td>\n",
       "      <td>85.0</td>\n",
       "      <td>青森</td>\n",
       "    </tr>\n",
       "    <tr>\n",
       "      <th>4</th>\n",
       "      <td>20041110</td>\n",
       "      <td>11.6</td>\n",
       "      <td>16.4</td>\n",
       "      <td>2004/11/10 14:42</td>\n",
       "      <td>6.9</td>\n",
       "      <td>2004/11/10 06:23</td>\n",
       "      <td>0.0</td>\n",
       "      <td>7.5</td>\n",
       "      <td>89.0</td>\n",
       "      <td>青森</td>\n",
       "    </tr>\n",
       "    <tr>\n",
       "      <th>...</th>\n",
       "      <td>...</td>\n",
       "      <td>...</td>\n",
       "      <td>...</td>\n",
       "      <td>...</td>\n",
       "      <td>...</td>\n",
       "      <td>...</td>\n",
       "      <td>...</td>\n",
       "      <td>...</td>\n",
       "      <td>...</td>\n",
       "      <td>...</td>\n",
       "    </tr>\n",
       "    <tr>\n",
       "      <th>204315</th>\n",
       "      <td>20220426</td>\n",
       "      <td>21.3</td>\n",
       "      <td>23.6</td>\n",
       "      <td>2022/4/26 14:27</td>\n",
       "      <td>17.9</td>\n",
       "      <td>2022/4/26 04:17</td>\n",
       "      <td>2.5</td>\n",
       "      <td>0.0</td>\n",
       "      <td>89.0</td>\n",
       "      <td>東京</td>\n",
       "    </tr>\n",
       "    <tr>\n",
       "      <th>204316</th>\n",
       "      <td>20220427</td>\n",
       "      <td>23.0</td>\n",
       "      <td>27.7</td>\n",
       "      <td>2022/4/27 13:12</td>\n",
       "      <td>18.9</td>\n",
       "      <td>2022/4/28 0:00</td>\n",
       "      <td>0.5</td>\n",
       "      <td>1.6</td>\n",
       "      <td>79.0</td>\n",
       "      <td>東京</td>\n",
       "    </tr>\n",
       "    <tr>\n",
       "      <th>204317</th>\n",
       "      <td>20220428</td>\n",
       "      <td>16.9</td>\n",
       "      <td>21.1</td>\n",
       "      <td>2022/4/28 15:03</td>\n",
       "      <td>14.2</td>\n",
       "      <td>2022/4/28 22:40</td>\n",
       "      <td>0.0</td>\n",
       "      <td>5.5</td>\n",
       "      <td>57.0</td>\n",
       "      <td>東京</td>\n",
       "    </tr>\n",
       "    <tr>\n",
       "      <th>204318</th>\n",
       "      <td>20220429</td>\n",
       "      <td>12.9</td>\n",
       "      <td>16.4</td>\n",
       "      <td>2022/4/29 09:21</td>\n",
       "      <td>9.0</td>\n",
       "      <td>2022/4/29 23:55</td>\n",
       "      <td>40.0</td>\n",
       "      <td>0.2</td>\n",
       "      <td>86.0</td>\n",
       "      <td>東京</td>\n",
       "    </tr>\n",
       "    <tr>\n",
       "      <th>204319</th>\n",
       "      <td>20220430</td>\n",
       "      <td>12.6</td>\n",
       "      <td>18.4</td>\n",
       "      <td>2022/4/30 14:49</td>\n",
       "      <td>7.4</td>\n",
       "      <td>2022/4/30 05:28</td>\n",
       "      <td>0.0</td>\n",
       "      <td>12.4</td>\n",
       "      <td>64.0</td>\n",
       "      <td>東京</td>\n",
       "    </tr>\n",
       "  </tbody>\n",
       "</table>\n",
       "<p>204320 rows × 10 columns</p>\n",
       "</div>"
      ],
      "text/plain": [
       "            date  mean_temp  max_temp     max_temp_time  min_temp  \\\n",
       "0       20041106       13.1      20.1   2004/11/6 12:50       8.1   \n",
       "1       20041107        9.6      12.5   2004/11/7 13:40       5.4   \n",
       "2       20041108        9.0      15.5   2004/11/8 12:51       3.2   \n",
       "3       20041109       12.2      17.7   2004/11/9 14:40       5.7   \n",
       "4       20041110       11.6      16.4  2004/11/10 14:42       6.9   \n",
       "...          ...        ...       ...               ...       ...   \n",
       "204315  20220426       21.3      23.6   2022/4/26 14:27      17.9   \n",
       "204316  20220427       23.0      27.7   2022/4/27 13:12      18.9   \n",
       "204317  20220428       16.9      21.1   2022/4/28 15:03      14.2   \n",
       "204318  20220429       12.9      16.4   2022/4/29 09:21       9.0   \n",
       "204319  20220430       12.6      18.4   2022/4/30 14:49       7.4   \n",
       "\n",
       "           min_temp_time  sum_rain  sun_time  mean_humid area  \n",
       "0        2004/11/6 05:31       5.0       1.6        77.0   青森  \n",
       "1        2004/11/7 22:17       0.0       4.1        63.0   青森  \n",
       "2        2004/11/8 06:28       0.0       8.9        72.0   青森  \n",
       "3        2004/11/9 02:49       1.5       1.2        85.0   青森  \n",
       "4       2004/11/10 06:23       0.0       7.5        89.0   青森  \n",
       "...                  ...       ...       ...         ...  ...  \n",
       "204315   2022/4/26 04:17       2.5       0.0        89.0   東京  \n",
       "204316    2022/4/28 0:00       0.5       1.6        79.0   東京  \n",
       "204317   2022/4/28 22:40       0.0       5.5        57.0   東京  \n",
       "204318   2022/4/29 23:55      40.0       0.2        86.0   東京  \n",
       "204319   2022/4/30 05:28       0.0      12.4        64.0   東京  \n",
       "\n",
       "[204320 rows x 10 columns]"
      ]
     },
     "execution_count": 5,
     "metadata": {},
     "output_type": "execute_result"
    }
   ],
   "source": [
    "df2"
   ]
  },
  {
   "cell_type": "code",
   "execution_count": 6,
   "metadata": {},
   "outputs": [
    {
     "data": {
      "text/plain": [
       "kind             44\n",
       "date           4379\n",
       "amount        74257\n",
       "mode_price     1241\n",
       "area            266\n",
       "dtype: int64"
      ]
     },
     "execution_count": 6,
     "metadata": {},
     "output_type": "execute_result"
    }
   ],
   "source": [
    "df1.nunique()"
   ]
  },
  {
   "cell_type": "code",
   "execution_count": 7,
   "metadata": {},
   "outputs": [
    {
     "data": {
      "text/plain": [
       "date               6385\n",
       "mean_temp           481\n",
       "max_temp            485\n",
       "max_temp_time    193876\n",
       "min_temp            522\n",
       "min_temp_time    179561\n",
       "sum_rain            432\n",
       "sun_time            147\n",
       "mean_humid           84\n",
       "area                 32\n",
       "dtype: int64"
      ]
     },
     "execution_count": 7,
     "metadata": {},
     "output_type": "execute_result"
    }
   ],
   "source": [
    "df2.nunique()"
   ]
  },
  {
   "cell_type": "code",
   "execution_count": 8,
   "metadata": {},
   "outputs": [
    {
     "data": {
      "text/plain": [
       "<bound method DataFrame.count of        kind      date  amount  mode_price      area\n",
       "0      だいこん  20051107  201445       735.0        千葉\n",
       "1      だいこん  20051108  189660       840.0  千葉_各地_青森\n",
       "2      だいこん  20051110  218166       735.0  千葉_各地_青森\n",
       "3      だいこん  20051111  182624       682.5     千葉_青森\n",
       "4      だいこん  20051112  220691       682.5     千葉_青森\n",
       "...     ...       ...     ...         ...       ...\n",
       "97777   しめじ  20170526   17231        48.5     新潟_長野\n",
       "97778   しめじ  20170527   17105        48.5     新潟_長野\n",
       "97779   しめじ  20170529   12406        48.5     新潟_長野\n",
       "97780   しめじ  20170530   12320        48.5     新潟_長野\n",
       "97781   しめじ  20170531   11635        43.0     新潟_長野\n",
       "\n",
       "[97782 rows x 5 columns]>"
      ]
     },
     "execution_count": 8,
     "metadata": {},
     "output_type": "execute_result"
    }
   ],
   "source": [
    "df1.count"
   ]
  },
  {
   "cell_type": "code",
   "execution_count": 9,
   "metadata": {},
   "outputs": [
    {
     "data": {
      "text/plain": [
       "<bound method DataFrame.count of             date  mean_temp  max_temp     max_temp_time  min_temp  \\\n",
       "0       20041106       13.1      20.1   2004/11/6 12:50       8.1   \n",
       "1       20041107        9.6      12.5   2004/11/7 13:40       5.4   \n",
       "2       20041108        9.0      15.5   2004/11/8 12:51       3.2   \n",
       "3       20041109       12.2      17.7   2004/11/9 14:40       5.7   \n",
       "4       20041110       11.6      16.4  2004/11/10 14:42       6.9   \n",
       "...          ...        ...       ...               ...       ...   \n",
       "204315  20220426       21.3      23.6   2022/4/26 14:27      17.9   \n",
       "204316  20220427       23.0      27.7   2022/4/27 13:12      18.9   \n",
       "204317  20220428       16.9      21.1   2022/4/28 15:03      14.2   \n",
       "204318  20220429       12.9      16.4   2022/4/29 09:21       9.0   \n",
       "204319  20220430       12.6      18.4   2022/4/30 14:49       7.4   \n",
       "\n",
       "           min_temp_time  sum_rain  sun_time  mean_humid area  \n",
       "0        2004/11/6 05:31       5.0       1.6        77.0   青森  \n",
       "1        2004/11/7 22:17       0.0       4.1        63.0   青森  \n",
       "2        2004/11/8 06:28       0.0       8.9        72.0   青森  \n",
       "3        2004/11/9 02:49       1.5       1.2        85.0   青森  \n",
       "4       2004/11/10 06:23       0.0       7.5        89.0   青森  \n",
       "...                  ...       ...       ...         ...  ...  \n",
       "204315   2022/4/26 04:17       2.5       0.0        89.0   東京  \n",
       "204316    2022/4/28 0:00       0.5       1.6        79.0   東京  \n",
       "204317   2022/4/28 22:40       0.0       5.5        57.0   東京  \n",
       "204318   2022/4/29 23:55      40.0       0.2        86.0   東京  \n",
       "204319   2022/4/30 05:28       0.0      12.4        64.0   東京  \n",
       "\n",
       "[204320 rows x 10 columns]>"
      ]
     },
     "execution_count": 9,
     "metadata": {},
     "output_type": "execute_result"
    }
   ],
   "source": [
    "df2.count"
   ]
  },
  {
   "cell_type": "code",
   "execution_count": 10,
   "metadata": {},
   "outputs": [
    {
     "data": {
      "text/plain": [
       "kind           object\n",
       "date            int64\n",
       "amount          int64\n",
       "mode_price    float64\n",
       "area           object\n",
       "dtype: object"
      ]
     },
     "execution_count": 10,
     "metadata": {},
     "output_type": "execute_result"
    }
   ],
   "source": [
    "df1.dtypes"
   ]
  },
  {
   "cell_type": "code",
   "execution_count": 11,
   "metadata": {},
   "outputs": [
    {
     "data": {
      "text/plain": [
       "date               int64\n",
       "mean_temp        float64\n",
       "max_temp         float64\n",
       "max_temp_time     object\n",
       "min_temp         float64\n",
       "min_temp_time     object\n",
       "sum_rain         float64\n",
       "sun_time         float64\n",
       "mean_humid       float64\n",
       "area              object\n",
       "dtype: object"
      ]
     },
     "execution_count": 11,
     "metadata": {},
     "output_type": "execute_result"
    }
   ],
   "source": [
    "df2.dtypes"
   ]
  },
  {
   "cell_type": "code",
   "execution_count": null,
   "metadata": {},
   "outputs": [],
   "source": []
  }
 ],
 "metadata": {
  "kernelspec": {
   "display_name": "Python 3",
   "language": "python",
   "name": "python3"
  },
  "language_info": {
   "codemirror_mode": {
    "name": "ipython",
    "version": 3
   },
   "file_extension": ".py",
   "mimetype": "text/x-python",
   "name": "python",
   "nbconvert_exporter": "python",
   "pygments_lexer": "ipython3",
   "version": "3.8.5"
  }
 },
 "nbformat": 4,
 "nbformat_minor": 4
}
